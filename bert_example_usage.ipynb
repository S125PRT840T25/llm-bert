{
 "cells": [
  {
   "cell_type": "code",
   "execution_count": 1,
   "id": "dbadaff4-126a-4a2d-9e42-dc1061bc5010",
   "metadata": {},
   "outputs": [],
   "source": [
    "from transformers import AutoModelForSequenceClassification, AutoTokenizer\n",
    "\n",
    "model_path = \"./fine_tuned_model\"  # Path where you saved the model\n",
    "tokenizer = AutoTokenizer.from_pretrained(model_path)\n",
    "model = AutoModelForSequenceClassification.from_pretrained(model_path)"
   ]
  },
  {
   "cell_type": "code",
   "execution_count": 9,
   "id": "8309027b-c68f-4227-aaa7-751487b2a7ab",
   "metadata": {},
   "outputs": [],
   "source": [
    "input_string = \"This is a great course with excellent content!\"  # test\n",
    "\n",
    "# Tokenize the input\n",
    "inputs = tokenizer(input_string, padding=\"max_length\", truncation=True, max_length=128, return_tensors=\"pt\")"
   ]
  },
  {
   "cell_type": "markdown",
   "id": "55fabc5e-03c1-4086-8fab-c394518baae0",
   "metadata": {},
   "source": [
    "prediction"
   ]
  },
  {
   "cell_type": "code",
   "execution_count": 10,
   "id": "6bb9de2b-9f46-4539-8ac5-9e4b43dcdf46",
   "metadata": {},
   "outputs": [],
   "source": [
    "import torch\n",
    "\n",
    "# Ensure the model is in evaluation mode\n",
    "model.eval()\n",
    "\n",
    "# Disable gradient calculations for inference\n",
    "with torch.no_grad():\n",
    "    outputs = model(**inputs)\n",
    "\n",
    "# Get the logits (raw predictions)\n",
    "logits = outputs.logits\n",
    "\n",
    "# Convert logits to probabilities (optional)\n",
    "probabilities = torch.softmax(logits, dim=-1)\n",
    "\n",
    "# Get the predicted class (index of the highest logit)\n",
    "predicted_class_id = torch.argmax(logits, dim=-1).item()"
   ]
  },
  {
   "cell_type": "markdown",
   "id": "ca2e663c-20f7-4823-a11b-923dd1b03dfa",
   "metadata": {},
   "source": [
    "Label"
   ]
  },
  {
   "cell_type": "code",
   "execution_count": 11,
   "id": "f9559158-b2da-43f9-b034-584a6a59bd00",
   "metadata": {},
   "outputs": [
    {
     "name": "stdout",
     "output_type": "stream",
     "text": [
      "Predicted type of feedback: good\n"
     ]
    }
   ],
   "source": [
    "from sklearn.preprocessing import LabelEncoder\n",
    "import pickle\n",
    "\n",
    "# Load the label encoder (if you saved it during training)\n",
    "# If you didn't save it, recreate it with the same classes used during training\n",
    "with open(\"label_encoder.pkl\", \"rb\") as f:  # Assuming you saved it as a pickle file\n",
    "    label_encoder = pickle.load(f)\n",
    "\n",
    "# Decode the predicted class\n",
    "predicted_label = label_encoder.inverse_transform([predicted_class_id])[0]\n",
    "print(f\"Predicted type of feedback: {predicted_label}\")"
   ]
  },
  {
   "cell_type": "code",
   "execution_count": null,
   "id": "bd2dbdd3-7567-450a-9787-4ea4f3ad668c",
   "metadata": {},
   "outputs": [],
   "source": []
  }
 ],
 "metadata": {
  "kernelspec": {
   "display_name": "Python 3 (ipykernel)",
   "language": "python",
   "name": "python3"
  },
  "language_info": {
   "codemirror_mode": {
    "name": "ipython",
    "version": 3
   },
   "file_extension": ".py",
   "mimetype": "text/x-python",
   "name": "python",
   "nbconvert_exporter": "python",
   "pygments_lexer": "ipython3",
   "version": "3.11.9"
  }
 },
 "nbformat": 4,
 "nbformat_minor": 5
}
